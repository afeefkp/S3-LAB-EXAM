{
  "nbformat": 4,
  "nbformat_minor": 0,
  "metadata": {
    "colab": {
      "provenance": []
    },
    "kernelspec": {
      "name": "python3",
      "display_name": "Python 3"
    },
    "language_info": {
      "name": "python"
    }
  },
  "cells": [
    {
      "cell_type": "markdown",
      "source": [
        "#QUESTION A"
      ],
      "metadata": {
        "id": "ZBNp4GQXUP__"
      }
    },
    {
      "cell_type": "code",
      "execution_count": 25,
      "metadata": {
        "id": "Avd5_51DAFaL"
      },
      "outputs": [],
      "source": [
        "import numpy as np  "
      ]
    },
    {
      "cell_type": "code",
      "source": [
        "m = int(input(\"enter number of rows:\"))  \n",
        "n = int(input(\"enter number of columns:\"))"
      ],
      "metadata": {
        "colab": {
          "base_uri": "https://localhost:8080/"
        },
        "id": "P1vKl7dgAKZL",
        "outputId": "2aa29248-d7f4-45cb-e427-2ccbe12b3a9e"
      },
      "execution_count": 26,
      "outputs": [
        {
          "name": "stdout",
          "output_type": "stream",
          "text": [
            "enter number of rows:4\n",
            "enter number of columns:4\n"
          ]
        }
      ]
    },
    {
      "cell_type": "code",
      "source": [
        "print(\"enter elements separated by a space: \")  \n",
        "print(\"elements of matrix A\")\n",
        "A = list(map(int, input().split())) \n",
        "\n",
        "Mtx_A= np.array(A).reshape(m, n)\n",
        "\n",
        "print(\"elements of matrix B\")\n",
        "B = list(map(int, input().split()))  \n",
        "Mtx_B= np.array(B).reshape(m, n)"
      ],
      "metadata": {
        "colab": {
          "base_uri": "https://localhost:8080/"
        },
        "id": "lnJMkOLqAMQa",
        "outputId": "6d60a712-dfd7-455f-fbef-0c3d71e66a73"
      },
      "execution_count": 28,
      "outputs": [
        {
          "name": "stdout",
          "output_type": "stream",
          "text": [
            "enter elements separated by a space: \n",
            "elements of matrix A\n",
            "1 2 3 4 5 6 7 8 9 10 11 12 13 14 15 16\n",
            "elements of matrix B\n",
            "11 22 33 44 55 66 77 88 99 10 11 12 13 14 15 16\n"
          ]
        }
      ]
    },
    {
      "cell_type": "markdown",
      "source": [
        "MATRIX A"
      ],
      "metadata": {
        "id": "NVm5QuLfUdDW"
      }
    },
    {
      "cell_type": "code",
      "source": [
        "\n",
        " print(Mtx_A)"
      ],
      "metadata": {
        "colab": {
          "base_uri": "https://localhost:8080/"
        },
        "id": "rY4p-sJrAP5C",
        "outputId": "3b456fca-4b54-4e14-a935-0dcb401d2cd7"
      },
      "execution_count": 29,
      "outputs": [
        {
          "output_type": "stream",
          "name": "stdout",
          "text": [
            "[[ 1  2  3  4]\n",
            " [ 5  6  7  8]\n",
            " [ 9 10 11 12]\n",
            " [13 14 15 16]]\n"
          ]
        }
      ]
    },
    {
      "cell_type": "markdown",
      "source": [
        "MATRIX B"
      ],
      "metadata": {
        "id": "qR8v1NeEUfD3"
      }
    },
    {
      "cell_type": "code",
      "source": [
        " print(Mtx_B)"
      ],
      "metadata": {
        "colab": {
          "base_uri": "https://localhost:8080/"
        },
        "id": "FelEtLwdAqWR",
        "outputId": "336575a0-e904-469f-a7ee-16905aade9e0"
      },
      "execution_count": 30,
      "outputs": [
        {
          "output_type": "stream",
          "name": "stdout",
          "text": [
            "[[11 22 33 44]\n",
            " [55 66 77 88]\n",
            " [99 10 11 12]\n",
            " [13 14 15 16]]\n"
          ]
        }
      ]
    },
    {
      "cell_type": "markdown",
      "source": [
        "1. DOT PRODUCT"
      ],
      "metadata": {
        "id": "Y29kfwvgUiWP"
      }
    },
    {
      "cell_type": "code",
      "source": [
        "np.dot(Mtx_A,Mtx_B)"
      ],
      "metadata": {
        "colab": {
          "base_uri": "https://localhost:8080/"
        },
        "id": "K-Tz8ap1CRwR",
        "outputId": "ff727997-0fc9-424b-dba4-deb5f31e66fe"
      },
      "execution_count": 31,
      "outputs": [
        {
          "output_type": "execute_result",
          "data": {
            "text/plain": [
              "array([[ 470,  240,  280,  320],\n",
              "       [1182,  688,  824,  960],\n",
              "       [1894, 1136, 1368, 1600],\n",
              "       [2606, 1584, 1912, 2240]])"
            ]
          },
          "metadata": {},
          "execution_count": 31
        }
      ]
    },
    {
      "cell_type": "markdown",
      "source": [
        "2. TRANSPOSE"
      ],
      "metadata": {
        "id": "jQIi-DUpUmKP"
      }
    },
    {
      "cell_type": "code",
      "source": [
        "np.transpose(Mtx_A)"
      ],
      "metadata": {
        "colab": {
          "base_uri": "https://localhost:8080/"
        },
        "id": "dEP5FU-7Fqyp",
        "outputId": "56960e4c-87ce-4535-fb54-76fe7ade5dd4"
      },
      "execution_count": 32,
      "outputs": [
        {
          "output_type": "execute_result",
          "data": {
            "text/plain": [
              "array([[ 1,  5,  9, 13],\n",
              "       [ 2,  6, 10, 14],\n",
              "       [ 3,  7, 11, 15],\n",
              "       [ 4,  8, 12, 16]])"
            ]
          },
          "metadata": {},
          "execution_count": 32
        }
      ]
    },
    {
      "cell_type": "markdown",
      "source": [
        "3. TRACE"
      ],
      "metadata": {
        "id": "9A8sYsRMUqTf"
      }
    },
    {
      "cell_type": "code",
      "source": [
        "np.trace(Mtx_A)"
      ],
      "metadata": {
        "colab": {
          "base_uri": "https://localhost:8080/"
        },
        "id": "r9x_X9jCF5S5",
        "outputId": "ace2bc93-8490-4b1e-f731-bc2dc73e536d"
      },
      "execution_count": 33,
      "outputs": [
        {
          "output_type": "execute_result",
          "data": {
            "text/plain": [
              "34"
            ]
          },
          "metadata": {},
          "execution_count": 33
        }
      ]
    },
    {
      "cell_type": "markdown",
      "source": [
        "4. RANK"
      ],
      "metadata": {
        "id": "nL0Q-2Q_UsQX"
      }
    },
    {
      "cell_type": "code",
      "source": [
        "np.linalg.matrix_rank(Mtx_A)"
      ],
      "metadata": {
        "colab": {
          "base_uri": "https://localhost:8080/"
        },
        "id": "iPweB2rVGF0p",
        "outputId": "04206ae4-011a-49c7-cbcf-618eb534a8d0"
      },
      "execution_count": 34,
      "outputs": [
        {
          "output_type": "execute_result",
          "data": {
            "text/plain": [
              "2"
            ]
          },
          "metadata": {},
          "execution_count": 34
        }
      ]
    },
    {
      "cell_type": "markdown",
      "source": [
        "5. DETERMINANT"
      ],
      "metadata": {
        "id": "lEh_C1O9U1_2"
      }
    },
    {
      "cell_type": "code",
      "source": [
        "np.linalg.det(Mtx_A)"
      ],
      "metadata": {
        "colab": {
          "base_uri": "https://localhost:8080/"
        },
        "id": "I6_KvAbgGJ8g",
        "outputId": "be4681cf-7df9-4356-fbc7-9d0c5b442225"
      },
      "execution_count": 35,
      "outputs": [
        {
          "output_type": "execute_result",
          "data": {
            "text/plain": [
              "0.0"
            ]
          },
          "metadata": {},
          "execution_count": 35
        }
      ]
    },
    {
      "cell_type": "code",
      "source": [],
      "metadata": {
        "id": "7OXMTAXNG6E5"
      },
      "execution_count": null,
      "outputs": []
    }
  ]
}